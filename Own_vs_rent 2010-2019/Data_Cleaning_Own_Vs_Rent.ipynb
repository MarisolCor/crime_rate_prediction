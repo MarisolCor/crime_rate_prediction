{
 "cells": [
  {
   "cell_type": "code",
   "execution_count": 3,
   "id": "17da06b0",
   "metadata": {},
   "outputs": [
    {
     "data": {
      "text/html": [
       "<div>\n",
       "<style scoped>\n",
       "    .dataframe tbody tr th:only-of-type {\n",
       "        vertical-align: middle;\n",
       "    }\n",
       "\n",
       "    .dataframe tbody tr th {\n",
       "        vertical-align: top;\n",
       "    }\n",
       "\n",
       "    .dataframe thead th {\n",
       "        text-align: right;\n",
       "    }\n",
       "</style>\n",
       "<table border=\"1\" class=\"dataframe\">\n",
       "  <thead>\n",
       "    <tr style=\"text-align: right;\">\n",
       "      <th></th>\n",
       "      <th>B25014_008E</th>\n",
       "    </tr>\n",
       "  </thead>\n",
       "  <tbody>\n",
       "    <tr>\n",
       "      <th>0</th>\n",
       "      <td>Estimate!!Total!!Renter occupied</td>\n",
       "    </tr>\n",
       "    <tr>\n",
       "      <th>1</th>\n",
       "      <td>14868</td>\n",
       "    </tr>\n",
       "    <tr>\n",
       "      <th>2</th>\n",
       "      <td>17407</td>\n",
       "    </tr>\n",
       "    <tr>\n",
       "      <th>3</th>\n",
       "      <td>51820</td>\n",
       "    </tr>\n",
       "    <tr>\n",
       "      <th>4</th>\n",
       "      <td>11531</td>\n",
       "    </tr>\n",
       "    <tr>\n",
       "      <th>...</th>\n",
       "      <td>...</td>\n",
       "    </tr>\n",
       "    <tr>\n",
       "      <th>123</th>\n",
       "      <td>14183</td>\n",
       "    </tr>\n",
       "    <tr>\n",
       "      <th>124</th>\n",
       "      <td>12460</td>\n",
       "    </tr>\n",
       "    <tr>\n",
       "      <th>125</th>\n",
       "      <td>12211</td>\n",
       "    </tr>\n",
       "    <tr>\n",
       "      <th>126</th>\n",
       "      <td>12949</td>\n",
       "    </tr>\n",
       "    <tr>\n",
       "      <th>127</th>\n",
       "      <td>NaN</td>\n",
       "    </tr>\n",
       "  </tbody>\n",
       "</table>\n",
       "<p>128 rows × 1 columns</p>\n",
       "</div>"
      ],
      "text/plain": [
       "                          B25014_008E\n",
       "0    Estimate!!Total!!Renter occupied\n",
       "1                               14868\n",
       "2                               17407\n",
       "3                               51820\n",
       "4                               11531\n",
       "..                                ...\n",
       "123                             14183\n",
       "124                             12460\n",
       "125                             12211\n",
       "126                             12949\n",
       "127                               NaN\n",
       "\n",
       "[128 rows x 1 columns]"
      ]
     },
     "execution_count": 3,
     "metadata": {},
     "output_type": "execute_result"
    }
   ],
   "source": [
    "import pandas as pd\n",
    "from pathlib import Path\n",
    "\n",
    "ovr_2010 = pd.read_csv(\"Own_vs_rent_yearly/Ovr_2010.csv\")\n",
    "ovr_2011 = pd.read_csv(\"Own_vs_rent_yearly/Ovr_2011.csv\")\n",
    "ovr_2012 = pd.read_csv(\"Own_vs_rent_yearly/Ovr_2012.csv\")\n",
    "ovr_2013 = pd.read_csv(\"Own_vs_rent_yearly/Ovr_2013.csv\")\n",
    "ovr_2014 = pd.read_csv(\"Own_vs_rent_yearly/Ovr_2014.csv\")\n",
    "\n",
    "ovr_2010[[\"B25014_008E\"]]"
   ]
  },
  {
   "cell_type": "code",
   "execution_count": 2,
   "id": "b5713e44",
   "metadata": {},
   "outputs": [],
   "source": [
    "df = [\n",
    "    (ovr_2010, \"2010\"),\n",
    "    (ovr_2011, \"2011\"),\n",
    "    (ovr_2012, \"2012\"),\n",
    "    (ovr_2013, \"2013\"),\n",
    "    (ovr_2014, \"2014\")]"
   ]
  },
  {
   "cell_type": "code",
   "execution_count": 4,
   "id": "f80eecb7",
   "metadata": {},
   "outputs": [],
   "source": [
    "def clean(df):\n",
    "    clean_df = []\n",
    "    for dataframe, year in df:\n",
    "            dataframe = dataframe.drop(columns=[\"GEO_ID\"])\n",
    "            dataframe[\"NAME\"] = dataframe[\"NAME\"].str.replace(', California|city|CDP|town', '', regex=True)\n",
    "            dataframe[\"NAME\"] = dataframe[\"NAME\"].str.strip()\n",
    "            dataframe[\"Year\"] = year   \n",
    "            dataframe = dataframe[[\"Year\", \"NAME\", \"B25014_001E\", \"B25014_002E\", \"B25014_008E\"]]\n",
    "            dataframe = dataframe.rename(columns={\n",
    "                \"NAME\": \"City\",\n",
    "                \"B25014_001E\": \"Total\",\n",
    "                \"B25014_002E\": \"Total Occupied\",\n",
    "                \"B25014_008E\": \"Renter Occupied\"})\n",
    "            dataframe = dataframe.drop(dataframe.index[0])\n",
    "            clean_df.append(dataframe)\n",
    "    return clean_df\n",
    "cleaned_df = clean(df)"
   ]
  },
  {
   "cell_type": "code",
   "execution_count": 5,
   "id": "e34f3e11",
   "metadata": {},
   "outputs": [],
   "source": [
    "years = [\"2010\", \"2011\", \"2012\", \"2013\", \"2014\"]\n",
    "file_name = {f\"Cleaned_Ovr_{year}\": df for df, year in zip(cleaned_df, years)}\n",
    "for name, df in file_name.items():\n",
    "    csv_path= f\"{name}.csv\"\n",
    "    df.to_csv(csv_path, index=False)"
   ]
  },
  {
   "cell_type": "code",
   "execution_count": null,
   "id": "55e72fa0",
   "metadata": {},
   "outputs": [],
   "source": []
  }
 ],
 "metadata": {
  "kernelspec": {
   "display_name": "Python 3 (ipykernel)",
   "language": "python",
   "name": "python3"
  },
  "language_info": {
   "codemirror_mode": {
    "name": "ipython",
    "version": 3
   },
   "file_extension": ".py",
   "mimetype": "text/x-python",
   "name": "python",
   "nbconvert_exporter": "python",
   "pygments_lexer": "ipython3",
   "version": "3.10.13"
  }
 },
 "nbformat": 4,
 "nbformat_minor": 5
}
